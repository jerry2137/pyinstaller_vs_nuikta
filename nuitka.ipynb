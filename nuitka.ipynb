{
 "cells": [
  {
   "cell_type": "code",
   "execution_count": null,
   "metadata": {},
   "outputs": [],
   "source": [
    "# execute in the original folder\n",
    "!pipreqs .\n",
    "# check if anything missing like openpyxl\n",
    "# copy requirements.txt to this folder"
   ]
  },
  {
   "cell_type": "code",
   "execution_count": null,
   "metadata": {
    "vscode": {
     "languageId": "bat"
    }
   },
   "outputs": [],
   "source": [
    "@REM py to exe\n",
    "@REM paste in cmd under this folder\n",
    "@REM do not run it here\n",
    "\n",
    "set filename=test\n",
    "python -m venv %filename%_venv\n",
    "cd %filename%_venv/Scripts\n",
    "activate\n",
    "pip install nuitka\n",
    "cd ../..\n",
    "pip install -r requirements.txt\n",
    "python -m nuitka --standalone --mingw64 --clang --enable-plugin=tk-inter,no-qt --remove-output --no-pyi-file --windows-console-mode=disable %filename%.py\n",
    "deactivate\n"
   ]
  },
  {
   "cell_type": "code",
   "execution_count": null,
   "metadata": {
    "vscode": {
     "languageId": "bat"
    }
   },
   "outputs": [],
   "source": [
    "@REM py to pyd\n",
    "python -m nuitka --module --mingw64 --clang %filename%.py"
   ]
  },
  {
   "cell_type": "code",
   "execution_count": null,
   "metadata": {
    "vscode": {
     "languageId": "bat"
    }
   },
   "outputs": [],
   "source": [
    "@REM create shortcut\n",
    "@REM paste in cmd under this folder\n",
    "\n",
    "set exepath=%cd%\\%filename%.dist\\%filename%.exe\n",
    "powershell -Command \"$s = New-Object -ComObject WScript.Shell; $s = $s.CreateShortcut('%filename%.lnk'); $s.TargetPath = '%exepath%'; $s.Save()\""
   ]
  },
  {
   "cell_type": "code",
   "execution_count": null,
   "metadata": {
    "vscode": {
     "languageId": "bat"
    }
   },
   "outputs": [],
   "source": [
    "@REM sign the exe\n",
    "@REM paste in cmd under this folder\n",
    "\n",
    "move %filename%.dist\\%filename%.exe .\n",
    "Powershell -ExecutionPolicy Bypass -File .\\sign.ps1 -filename %filename%\n",
    "move %filename%.exe %filename%.dist"
   ]
  },
  {
   "cell_type": "code",
   "execution_count": null,
   "metadata": {},
   "outputs": [],
   "source": []
  }
 ],
 "metadata": {
  "kernelspec": {
   "display_name": "Python 3",
   "language": "python",
   "name": "python3"
  },
  "language_info": {
   "codemirror_mode": {
    "name": "ipython",
    "version": 3
   },
   "file_extension": ".py",
   "mimetype": "text/x-python",
   "name": "python",
   "nbconvert_exporter": "python",
   "pygments_lexer": "ipython3",
   "version": "3.12.4"
  }
 },
 "nbformat": 4,
 "nbformat_minor": 2
}
