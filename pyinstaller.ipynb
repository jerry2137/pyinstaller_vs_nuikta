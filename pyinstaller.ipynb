{
 "cells": [
  {
   "cell_type": "code",
   "execution_count": 1,
   "metadata": {},
   "outputs": [
    {
     "name": "stdout",
     "output_type": "stream",
     "text": [
      "flowtrade_selector\n"
     ]
    }
   ],
   "source": [
    "filename = 'test'\n",
    "!echo {filename}"
   ]
  },
  {
   "cell_type": "code",
   "execution_count": null,
   "metadata": {},
   "outputs": [],
   "source": [
    "import PyInstaller.__main__\n",
    "\n",
    "PyInstaller.__main__.run([\n",
    "    f'{filename}.py',\n",
    "    '--noconsole',\n",
    "    # '--onefile',\n",
    "])"
   ]
  },
  {
   "cell_type": "code",
   "execution_count": 4,
   "metadata": {},
   "outputs": [],
   "source": [
    "import shutil, os\n",
    "\n",
    "shutil.copy(f'dist/{filename}/{filename}.exe', '.')\n",
    "if os.path.isdir(f'dist/{filename}/_internal'):\n",
    "    shutil.copytree(f'dist/{filename}/_internal', '_internal', dirs_exist_ok=True)\n",
    "shutil.rmtree('build')\n",
    "shutil.rmtree('dist')\n",
    "os.remove(f'{filename}.spec')"
   ]
  },
  {
   "cell_type": "code",
   "execution_count": null,
   "metadata": {},
   "outputs": [],
   "source": [
    "!Powershell -ExecutionPolicy Bypass -File .\\sign.ps1 -filename {filename}"
   ]
  }
 ],
 "metadata": {
  "kernelspec": {
   "display_name": "Python 3",
   "language": "python",
   "name": "python3"
  },
  "language_info": {
   "codemirror_mode": {
    "name": "ipython",
    "version": 3
   },
   "file_extension": ".py",
   "mimetype": "text/x-python",
   "name": "python",
   "nbconvert_exporter": "python",
   "pygments_lexer": "ipython3",
   "version": "3.12.4"
  }
 },
 "nbformat": 4,
 "nbformat_minor": 2
}
